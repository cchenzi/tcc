{
 "cells": [
  {
   "cell_type": "code",
   "execution_count": 14,
   "metadata": {},
   "outputs": [],
   "source": [
    "def compose(text, funcs):\n",
    "    for (func, args) in funcs:\n",
    "        print(args)\n",
    "        text = func(text, *args)\n",
    "    return text"
   ]
  },
  {
   "cell_type": "code",
   "execution_count": 15,
   "metadata": {},
   "outputs": [],
   "source": [
    "def func1(text):\n",
    "    return text + \"_salt\"\n",
    "\n",
    "def func2(text, number):\n",
    "    return text + \"_\" + str(number)\n",
    "\n",
    "def func3(text, salt):\n",
    "    return text + \"_\" + salt\n"
   ]
  },
  {
   "cell_type": "code",
   "execution_count": 16,
   "metadata": {},
   "outputs": [
    {
     "name": "stdout",
     "output_type": "stream",
     "text": [
      "{}\n",
      "{'number': 2}\n",
      "{}\n",
      "{'salt': 'blabla'}\n",
      "{'number': 666}\n"
     ]
    },
    {
     "data": {
      "text/plain": [
       "'teste_salt_number_salt_salt_number'"
      ]
     },
     "execution_count": 16,
     "metadata": {},
     "output_type": "execute_result"
    }
   ],
   "source": [
    "a = 'teste'\n",
    "\n",
    "compose(a, [(func1, {}), (func2, {'number': 2}), (func1, {}), (func3, {'salt': \"blabla\"}), (func2, {'number': 666})])"
   ]
  },
  {
   "cell_type": "code",
   "execution_count": null,
   "metadata": {},
   "outputs": [],
   "source": [
    "def remove_noise(image, kernel):\n",
    "    return cv2.medianBlur(image, kernel)"
   ]
  },
  {
   "cell_type": "code",
   "execution_count": 1,
   "metadata": {},
   "outputs": [],
   "source": [
    "import cv2"
   ]
  },
  {
   "cell_type": "code",
   "execution_count": 8,
   "metadata": {},
   "outputs": [
    {
     "ename": "TypeError",
     "evalue": "equalizeHist() missing required argument 'src' (pos 1)",
     "output_type": "error",
     "traceback": [
      "\u001b[0;31m---------------------------------------------------------------------------\u001b[0m",
      "\u001b[0;31mTypeError\u001b[0m                                 Traceback (most recent call last)",
      "\u001b[0;32m<ipython-input-8-53eba51acfb8>\u001b[0m in \u001b[0;36m<module>\u001b[0;34m\u001b[0m\n\u001b[0;32m----> 1\u001b[0;31m \u001b[0mcv2\u001b[0m\u001b[0;34m.\u001b[0m\u001b[0mequalizeHist\u001b[0m\u001b[0;34m(\u001b[0m\u001b[0;34m)\u001b[0m\u001b[0;34m\u001b[0m\u001b[0;34m\u001b[0m\u001b[0m\n\u001b[0m",
      "\u001b[0;31mTypeError\u001b[0m: equalizeHist() missing required argument 'src' (pos 1)"
     ]
    }
   ],
   "source": [
    "cv2.equalizeHist()"
   ]
  },
  {
   "cell_type": "code",
   "execution_count": 9,
   "metadata": {},
   "outputs": [
    {
     "data": {
      "text/plain": [
       "'teste'"
      ]
     },
     "execution_count": 9,
     "metadata": {},
     "output_type": "execute_result"
    }
   ],
   "source": [
    "compose(a, [])"
   ]
  },
  {
   "cell_type": "code",
   "execution_count": 2,
   "metadata": {},
   "outputs": [],
   "source": [
    "img = cv2.imread('../images/food/ervamate_2.jpg', cv2.IMREAD_GRAYSCALE)"
   ]
  },
  {
   "cell_type": "code",
   "execution_count": 3,
   "metadata": {},
   "outputs": [
    {
     "ename": "AttributeError",
     "evalue": "'numpy.ndarray' object has no attribute 'to_bytes'",
     "output_type": "error",
     "traceback": [
      "\u001b[0;31m---------------------------------------------------------------------------\u001b[0m",
      "\u001b[0;31mAttributeError\u001b[0m                            Traceback (most recent call last)",
      "\u001b[0;32m<ipython-input-3-6373ebdcb57e>\u001b[0m in \u001b[0;36m<module>\u001b[0;34m\u001b[0m\n\u001b[0;32m----> 1\u001b[0;31m \u001b[0mimg\u001b[0m\u001b[0;34m.\u001b[0m\u001b[0mto_bytes\u001b[0m\u001b[0;34m(\u001b[0m\u001b[0;34m)\u001b[0m\u001b[0;34m\u001b[0m\u001b[0;34m\u001b[0m\u001b[0m\n\u001b[0m",
      "\u001b[0;31mAttributeError\u001b[0m: 'numpy.ndarray' object has no attribute 'to_bytes'"
     ]
    }
   ],
   "source": [
    "img.to_bytes()"
   ]
  },
  {
   "cell_type": "code",
   "execution_count": 4,
   "metadata": {},
   "outputs": [],
   "source": [
    "res, im_png = cv2.imencode('.png', img)"
   ]
  },
  {
   "cell_type": "code",
   "execution_count": 7,
   "metadata": {},
   "outputs": [],
   "source": [
    "diabo = \"----oi\"\n",
    "bla = f\"\"\"\n",
    "teste123aaaaaaaaaaaaaaaaaaa{diabo}\"\"\""
   ]
  },
  {
   "cell_type": "code",
   "execution_count": 9,
   "metadata": {},
   "outputs": [
    {
     "name": "stdout",
     "output_type": "stream",
     "text": [
      "\n",
      "teste123aaaaaaaaaaaaaaaaaaa----oi\n"
     ]
    }
   ],
   "source": [
    "print(bla)"
   ]
  },
  {
   "cell_type": "code",
   "execution_count": 1,
   "metadata": {},
   "outputs": [],
   "source": [
    "import pandas as pd"
   ]
  },
  {
   "cell_type": "code",
   "execution_count": 2,
   "metadata": {},
   "outputs": [],
   "source": [
    "a = pd.DataFrame(data=[{\"x\": [1, 2, 3]}, {\"x\": [3, 4, 5, 6]}])"
   ]
  },
  {
   "cell_type": "code",
   "execution_count": 10,
   "metadata": {},
   "outputs": [
    {
     "data": {
      "text/plain": [
       "{1, 2, 3, 4, 5, 6}"
      ]
     },
     "execution_count": 10,
     "metadata": {},
     "output_type": "execute_result"
    }
   ],
   "source": [
    "flat_list = set([item for sublist in a.x for item in sublist])\n",
    "flat_list"
   ]
  },
  {
   "cell_type": "code",
   "execution_count": null,
   "metadata": {},
   "outputs": [],
   "source": [
    "flat_list = [item for sublist in t for item in sublist]"
   ]
  },
  {
   "cell_type": "code",
   "execution_count": 16,
   "metadata": {},
   "outputs": [],
   "source": [
    "a = 'BICARBONATO 23,13 SÓDIO 2,107 diabo123 123 CÁLCIO 2,849 MAGNÉSIO 2,350 CLORETO 2,150 SULFATO 0,690 POTÁSSIO 0,617 NITRATO 0,820 FLUORETO 0,040 ESTRÔNCIO 0,017'"
   ]
  },
  {
   "cell_type": "code",
   "execution_count": 17,
   "metadata": {},
   "outputs": [],
   "source": [
    "import jiwer\n"
   ]
  },
  {
   "cell_type": "code",
   "execution_count": 18,
   "metadata": {},
   "outputs": [],
   "source": [
    "default_transformation = jiwer.Compose(\n",
    "        [\n",
    "            jiwer.ToLowerCase(),\n",
    "            jiwer.RemoveWhiteSpace(replace_by_space=True),\n",
    "            jiwer.RemoveMultipleSpaces(),\n",
    "            jiwer.Strip(),\n",
    "            jiwer.SentencesToListOfWords(word_delimiter=\" \"),\n",
    "            jiwer.RemoveEmptyStrings(),\n",
    "        ]\n",
    "    )"
   ]
  },
  {
   "cell_type": "code",
   "execution_count": 30,
   "metadata": {},
   "outputs": [],
   "source": [
    "ttt = jiwer.Compose(\n",
    "        [\n",
    "            jiwer.ToLowerCase(),\n",
    "            jiwer.RemoveMultipleSpaces(),\n",
    "            jiwer.Strip(),\n",
    "            jiwer.RemoveEmptyStrings(),\n",
    "        ]\n",
    "    )"
   ]
  },
  {
   "cell_type": "code",
   "execution_count": 32,
   "metadata": {},
   "outputs": [
    {
     "data": {
      "text/plain": [
       "['bicarbonato 23,13 sódio 2,107 diabo123 123 cálcio 2,849 magnésio 2,350 cloreto 2,150 sulfato 0,690 potássio 0,617 nitrato 0,820 fluoreto 0,040 estrôncio 0,017']"
      ]
     },
     "execution_count": 32,
     "metadata": {},
     "output_type": "execute_result"
    }
   ],
   "source": [
    "b = ttt(a)\n",
    "b.split('\\n')"
   ]
  },
  {
   "cell_type": "code",
   "execution_count": 19,
   "metadata": {},
   "outputs": [],
   "source": [
    "q = default_transformation(a)"
   ]
  },
  {
   "cell_type": "code",
   "execution_count": 20,
   "metadata": {},
   "outputs": [],
   "source": [
    "words_water = [\n",
    "    \"bicarbonato\",\n",
    "    \"sódio\",\n",
    "    \"cálcio\",\n",
    "    \"magnésio\",\n",
    "    \"cloreto\",\n",
    "    \"sulfato\",\n",
    "    \"potássio\",\n",
    "    \"nitrato\",\n",
    "    \"fluoreto\",\n",
    "    \"estrôncio\",\n",
    "    \"bario\",\n",
    "]"
   ]
  },
  {
   "cell_type": "code",
   "execution_count": 22,
   "metadata": {},
   "outputs": [
    {
     "name": "stdout",
     "output_type": "stream",
     "text": [
      "0 bicarbonato\n",
      "0 bicarbonato 23,13\n",
      "1 23,13\n",
      "1 23,13 \n",
      "2 sódio\n",
      "2 sódio 2,107 diabo123 123\n",
      "3 2,107\n",
      "3 2,107 \n",
      "4 diabo123\n",
      "4 diabo123 \n",
      "5 123\n",
      "5 123 \n",
      "6 cálcio\n",
      "6 cálcio 2,849\n",
      "7 2,849\n",
      "7 2,849 \n",
      "8 magnésio\n",
      "8 magnésio 2,350\n",
      "9 2,350\n",
      "9 2,350 \n",
      "10 cloreto\n",
      "10 cloreto 2,150\n",
      "11 2,150\n",
      "11 2,150 \n",
      "12 sulfato\n",
      "12 sulfato 0,690\n",
      "13 0,690\n",
      "13 0,690 \n",
      "14 potássio\n",
      "14 potássio 0,617\n",
      "15 0,617\n",
      "15 0,617 \n",
      "16 nitrato\n",
      "16 nitrato 0,820\n",
      "17 0,820\n",
      "17 0,820 \n",
      "18 fluoreto\n",
      "18 fluoreto 0,040\n",
      "19 0,040\n",
      "19 0,040 \n",
      "20 estrôncio\n",
      "20 estrôncio 0,017\n",
      "21 0,017\n",
      "21 0,017 \n"
     ]
    }
   ],
   "source": [
    "for i, w in enumerate(q):\n",
    "    words = []\n",
    "    print(i, w)\n",
    "    if w in words_water:\n",
    "        for i2, w2 in enumerate(q[i+1:]):\n",
    "            if w2 in words_water:\n",
    "                break\n",
    "            words.append(w2)\n",
    "    print(i, w, ' '.join(words))"
   ]
  },
  {
   "cell_type": "code",
   "execution_count": 24,
   "metadata": {},
   "outputs": [],
   "source": [
    "import re\n",
    "rerere = re.compile(r\"\\d+(,\\d+)*\")"
   ]
  },
  {
   "cell_type": "code",
   "execution_count": 28,
   "metadata": {},
   "outputs": [],
   "source": [
    "possible_number = rerere.search(\"sódio 2,107 diabo123 123\")"
   ]
  },
  {
   "cell_type": "code",
   "execution_count": 29,
   "metadata": {},
   "outputs": [
    {
     "data": {
      "text/plain": [
       "'2,107'"
      ]
     },
     "execution_count": 29,
     "metadata": {},
     "output_type": "execute_result"
    }
   ],
   "source": [
    "possible_number.group(0)"
   ]
  },
  {
   "cell_type": "code",
   "execution_count": 33,
   "metadata": {},
   "outputs": [],
   "source": [
    "dd = {\"oi\": 2}"
   ]
  },
  {
   "cell_type": "code",
   "execution_count": 35,
   "metadata": {},
   "outputs": [
    {
     "data": {
      "text/plain": [
       "['oi']"
      ]
     },
     "execution_count": 35,
     "metadata": {},
     "output_type": "execute_result"
    }
   ],
   "source": [
    "list(dd.keys())"
   ]
  },
  {
   "cell_type": "code",
   "execution_count": 36,
   "metadata": {},
   "outputs": [],
   "source": [
    "words = [\n",
    "    \"carboidratos\",\n",
    "    \"proteinas\",\n",
    "    \"gorduras totais\",\n",
    "    \"gorduras saturadas\",\n",
    "    \"gorduras trans\",\n",
    "    \"fibra alimentar\",\n",
    "    \"sodio\",\n",
    "    \"valor energetico\",\n",
    "]"
   ]
  },
  {
   "cell_type": "code",
   "execution_count": 51,
   "metadata": {},
   "outputs": [],
   "source": [
    "text = 'Porção de 200 ml (1 copo) Quantidade por porção Valor Energetico — | 116kal=487kKI | 6 8 Carboidratos Proteinas 63g |g'"
   ]
  },
  {
   "cell_type": "code",
   "execution_count": 52,
   "metadata": {},
   "outputs": [],
   "source": [
    "vv = default_transformation(text)"
   ]
  },
  {
   "cell_type": "code",
   "execution_count": 53,
   "metadata": {},
   "outputs": [
    {
     "data": {
      "text/plain": [
       "['porção']"
      ]
     },
     "execution_count": 53,
     "metadata": {},
     "output_type": "execute_result"
    }
   ],
   "source": [
    "vv[0:1]"
   ]
  },
  {
   "cell_type": "code",
   "execution_count": 80,
   "metadata": {},
   "outputs": [
    {
     "name": "stdout",
     "output_type": "stream",
     "text": [
      "carboidratos\n",
      "carboidratos ['proteinas']\n",
      "carboidratos -> carboidratos => None\n",
      "proteinas\n",
      "proteinas -> proteinas 63g |g => 63\n",
      "gorduras totais\n",
      "gorduras saturadas\n",
      "gorduras trans\n",
      "fibra alimentar\n",
      "sodio\n",
      "valor energetico\n",
      "valor energetico ['carboidratos', 'carboidratos proteinas']\n",
      "valor energetico -> valor energetico — | 116kal=487kki | 6 8 carboidratos => 116\n"
     ]
    }
   ],
   "source": [
    "for word in words:\n",
    "    begin = -1\n",
    "    end = -1\n",
    "    print(word)\n",
    "    found = False\n",
    "    gram_len = len(word.split(\" \"))\n",
    "    for i in range(0, len(vv) - gram_len + 1):\n",
    "        instance = \" \".join(vv[i : i + gram_len])\n",
    "        instances_to_consider = [\" \".join(vv[i : i + aux]) for aux in range(1, gram_len + 1)]\n",
    "        if word == instance:\n",
    "            begin = i\n",
    "            found = True\n",
    "        elif any(inside_instance in words for inside_instance in instances_to_consider) and found:\n",
    "            print(word, instances_to_consider)\n",
    "            break\n",
    "        end = i + gram_len\n",
    "    if begin != -1 and end != -1:\n",
    "        line = \" \".join(vv[begin : end])\n",
    "        nb = rerere.search(line)\n",
    "        if nb:\n",
    "            nb = nb.group(0)\n",
    "        else:\n",
    "            nb = None\n",
    "        print(word, \"->\", line, \"=>\", nb)\n",
    "    \n",
    "#         print(word, '->', instance, i, i+gram_len)"
   ]
  },
  {
   "cell_type": "code",
   "execution_count": 69,
   "metadata": {},
   "outputs": [
    {
     "data": {
      "text/plain": [
       "['porção', 'porção valor']"
      ]
     },
     "execution_count": 69,
     "metadata": {},
     "output_type": "execute_result"
    }
   ],
   "source": [
    "i = 8\n",
    "gram_len = 2\n",
    "s = [\" \".join(vv[i : i + aux]) for aux in range(1, gram_len + 1)]\n",
    "s"
   ]
  },
  {
   "cell_type": "code",
   "execution_count": 60,
   "metadata": {},
   "outputs": [
    {
     "data": {
      "text/plain": [
       "[1]"
      ]
     },
     "execution_count": 60,
     "metadata": {},
     "output_type": "execute_result"
    }
   ],
   "source": [
    "[aux for aux in range(1, gram_len)]"
   ]
  },
  {
   "cell_type": "code",
   "execution_count": 70,
   "metadata": {},
   "outputs": [
    {
     "data": {
      "text/plain": [
       "False"
      ]
     },
     "execution_count": 70,
     "metadata": {},
     "output_type": "execute_result"
    }
   ],
   "source": [
    "any(sx in words for sx in s)"
   ]
  },
  {
   "cell_type": "code",
   "execution_count": 81,
   "metadata": {},
   "outputs": [
    {
     "data": {
      "text/plain": [
       "{'a': [2, 2.1], 'b': [3], 'c': [4]}"
      ]
     },
     "execution_count": 81,
     "metadata": {},
     "output_type": "execute_result"
    }
   ],
   "source": [
    "dd1 = {\"a\": 2, \"b\": 3}\n",
    "dd2 = {\"a\": 2.1, \"c\": 4}\n",
    "\n",
    "dds = [dd1, dd2]\n",
    "\n",
    "result = {}\n",
    "for dd in dds:\n",
    "    for (k, v) in dd.items():\n",
    "        if k not in result:\n",
    "            result[k] = [v]\n",
    "        else:\n",
    "            result[k].append(v)\n",
    "result\n"
   ]
  },
  {
   "cell_type": "code",
   "execution_count": null,
   "metadata": {},
   "outputs": [],
   "source": []
  }
 ],
 "metadata": {
  "kernelspec": {
   "display_name": "Python 3",
   "language": "python",
   "name": "python3"
  },
  "language_info": {
   "codemirror_mode": {
    "name": "ipython",
    "version": 3
   },
   "file_extension": ".py",
   "mimetype": "text/x-python",
   "name": "python",
   "nbconvert_exporter": "python",
   "pygments_lexer": "ipython3",
   "version": "3.9.6"
  }
 },
 "nbformat": 4,
 "nbformat_minor": 4
}
